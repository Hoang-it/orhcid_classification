{
  "nbformat": 4,
  "nbformat_minor": 0,
  "metadata": {
    "colab": {
      "name": "MEFOC.ipynb",
      "provenance": [],
      "collapsed_sections": [],
      "include_colab_link": true
    },
    "kernelspec": {
      "name": "python3",
      "display_name": "Python 3"
    },
    "language_info": {
      "name": "python"
    }
  },
  "cells": [
    {
      "cell_type": "markdown",
      "metadata": {
        "id": "view-in-github",
        "colab_type": "text"
      },
      "source": [
        "<a href=\"https://colab.research.google.com/github/Hoang-it/orhcid_classification/blob/main/MEFOC.ipynb\" target=\"_parent\"><img src=\"https://colab.research.google.com/assets/colab-badge.svg\" alt=\"Open In Colab\"/></a>"
      ]
    },
    {
      "cell_type": "code",
      "metadata": {
        "id": "10tUo7IlN4-q"
      },
      "source": [
        "# MEFOC is stand for Multistage Extraction Features for Ochid Classification\n",
        "@author : Nguyen Huu Hoang\n",
        "@date-start : 6-9-2021"
      ],
      "execution_count": null,
      "outputs": []
    },
    {
      "cell_type": "code",
      "metadata": {
        "id": "7eAODJCQOJPV"
      },
      "source": [
        "class mefoc:\n",
        "  pass"
      ],
      "execution_count": null,
      "outputs": []
    },
    {
      "cell_type": "code",
      "metadata": {
        "id": "vWJ1r1uA----"
      },
      "source": [
        "# References\n",
        "@inproceedings{yolact-iccv2019,\n",
        "  author    = {Daniel Bolya and Chong Zhou and Fanyi Xiao and Yong Jae Lee},\n",
        "  title     = {YOLACT: {Real-time} Instance Segmentation},\n",
        "  booktitle = {ICCV},\n",
        "  year      = {2019},\n",
        "}\n",
        "@inproceedings{sarachai2019orchids,\n",
        "  title        ={Orchids Classification Using Spatial Transformer Network with Adaptive Scaling},\n",
        "  author       ={Sarachai, Watcharin and Bootkrajang, Jakramate and Chaijaruwanich, Jeerayut and Somhom, Samerkae},\n",
        "  booktitle    ={International Conference on Intelligent Data Engineering and Automated Learning – IDEAL 2019},\n",
        "  pages        ={1--10},\n",
        "  DOI          ={978-3-030-33607-3_1},\n",
        "  year         ={2019},\n",
        "  organization ={Springer International Publishing}}\n",
        "\n",
        "}\n",
        "@data{DVN/0HNECY_2020,\n",
        "  author    = {Apriyanti, D.H. and Spreeuwers, L.J. and Lucas, P.J.F. and Veldhuis, R.N.J.},\n",
        "  publisher = {Harvard Dataverse},\n",
        "  title     = {{Orchid Flowers Dataset}},\n",
        "  year      = {2020},\n",
        "  version   = {V1},\n",
        "  doi       = {10.7910/DVN/0HNECY},\n",
        "  url       = {https://doi.org/10.7910/DVN/0HNECY}\n",
        "}"
      ],
      "execution_count": null,
      "outputs": []
    }
  ]
}