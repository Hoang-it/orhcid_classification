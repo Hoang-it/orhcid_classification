{
  "nbformat": 4,
  "nbformat_minor": 0,
  "metadata": {
    "colab": {
      "name": "MEFOC.ipynb",
      "provenance": [],
      "collapsed_sections": [],
      "include_colab_link": true
    },
    "kernelspec": {
      "name": "python3",
      "display_name": "Python 3"
    },
    "language_info": {
      "name": "python"
    }
  },
  "cells": [
    {
      "cell_type": "markdown",
      "metadata": {
        "id": "view-in-github",
        "colab_type": "text"
      },
      "source": [
        "<a href=\"https://colab.research.google.com/github/Hoang-it/orhcid_classification/blob/main/MEFOC.ipynb\" target=\"_parent\"><img src=\"https://colab.research.google.com/assets/colab-badge.svg\" alt=\"Open In Colab\"/></a>"
      ]
    },
    {
      "cell_type": "code",
      "metadata": {
        "id": "10tUo7IlN4-q"
      },
      "source": [
        "# MEFOC is stand for Multistage Extraction Features for Ochid Classification\n",
        "@author : Nguyen Huu Hoang\n",
        "@date-start : 6-9-2021"
      ],
      "execution_count": null,
      "outputs": []
    },
    {
      "cell_type": "code",
      "metadata": {
        "id": "7eAODJCQOJPV"
      },
      "source": [
        "class mefoc:\n",
        "  pass"
      ],
      "execution_count": null,
      "outputs": []
    }
  ]
}